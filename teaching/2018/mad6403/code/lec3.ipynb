{
 "cells": [
  {
   "cell_type": "code",
   "execution_count": 16,
   "metadata": {},
   "outputs": [],
   "source": [
    "?PolynomialRing"
   ]
  },
  {
   "cell_type": "code",
   "execution_count": 17,
   "metadata": {},
   "outputs": [],
   "source": [
    " R.<x> = PolynomialRing(ZZ)"
   ]
  },
  {
   "cell_type": "code",
   "execution_count": 18,
   "metadata": {},
   "outputs": [
    {
     "data": {
      "text/plain": [
       "Univariate Polynomial Ring in x over Integer Ring"
      ]
     },
     "execution_count": 18,
     "metadata": {},
     "output_type": "execute_result"
    }
   ],
   "source": [
    "R"
   ]
  },
  {
   "cell_type": "code",
   "execution_count": 22,
   "metadata": {},
   "outputs": [],
   "source": [
    "f(x) = R.random_element(10, 0, 1000000)"
   ]
  },
  {
   "cell_type": "code",
   "execution_count": 23,
   "metadata": {},
   "outputs": [],
   "source": [
    "g = R.random_element(10, 0, 1000000)"
   ]
  },
  {
   "cell_type": "code",
   "execution_count": 24,
   "metadata": {},
   "outputs": [
    {
     "data": {
      "text/plain": [
       "x |--> 595009*x^10 + 761687*x^9 + 395963*x^8 + 955746*x^7 + 358316*x^6 + 587623*x^5 + 879703*x^4 + 683902*x^3 + 542508*x^2 + 523973*x + 387690"
      ]
     },
     "execution_count": 24,
     "metadata": {},
     "output_type": "execute_result"
    }
   ],
   "source": [
    "f"
   ]
  },
  {
   "cell_type": "code",
   "execution_count": 25,
   "metadata": {},
   "outputs": [
    {
     "data": {
      "text/plain": [
       "421019*x^10 + 669781*x^9 + 772471*x^8 + 953233*x^7 + 673154*x^6 + 242297*x^5 + 358162*x^4 + 805045*x^3 + 52847*x^2 + 414761*x + 373091"
      ]
     },
     "execution_count": 25,
     "metadata": {},
     "output_type": "execute_result"
    }
   ],
   "source": [
    "g"
   ]
  },
  {
   "cell_type": "code",
   "execution_count": 27,
   "metadata": {},
   "outputs": [
    {
     "data": {
      "text/plain": [
       "(595009*x^10 + 761687*x^9 + 395963*x^8 + 955746*x^7 + 358316*x^6 + 587623*x^5 + 879703*x^4 + 683902*x^3 + 542508*x^2 + 523973*x + 387690)*(421019*x^10 + 669781*x^9 + 772471*x^8 + 953233*x^7 + 673154*x^6 + 242297*x^5 + 358162*x^4 + 805045*x^3 + 52847*x^2 + 414761*x + 373091)"
      ]
     },
     "execution_count": 27,
     "metadata": {},
     "output_type": "execute_result"
    }
   ],
   "source": [
    "f(x) * g"
   ]
  },
  {
   "cell_type": "code",
   "execution_count": 28,
   "metadata": {},
   "outputs": [],
   "source": [
    "f = R.random_element(10, 0, 1000000)"
   ]
  },
  {
   "cell_type": "code",
   "execution_count": 29,
   "metadata": {},
   "outputs": [
    {
     "data": {
      "text/plain": [
       "233836899733*x^20 + 561652853588*x^19 + 1026082772372*x^18 + 1731445811721*x^17 + 1975847097707*x^16 + 2151624412569*x^15 + 2374634548855*x^14 + 2360372310930*x^13 + 2094448725911*x^12 + 2335245512904*x^11 + 1979000186864*x^10 + 1238624059034*x^9 + 1650436260925*x^8 + 932788018688*x^7 + 518219990404*x^6 + 648162914456*x^5 + 320641647479*x^4 + 114987408491*x^3 + 109905461671*x^2 + 44830567369*x + 1138673732"
      ]
     },
     "execution_count": 29,
     "metadata": {},
     "output_type": "execute_result"
    }
   ],
   "source": [
    "f * g"
   ]
  },
  {
   "cell_type": "code",
   "execution_count": 30,
   "metadata": {},
   "outputs": [
    {
     "name": "stderr",
     "output_type": "stream",
     "text": [
      "/opt/sagemath-8.3/local/lib/python2.7/site-packages/IPython/core/interactiveshell.py:2882: DeprecationWarning: The use of coeffs() is now deprecated in favor of coefficients(sparse=False).\n",
      "See http://trac.sagemath.org/17518 for details.\n",
      "  exec(code_obj, self.user_global_ns, self.user_ns)\n"
     ]
    },
    {
     "data": {
      "text/plain": [
       "[3052,\n",
       " 116767,\n",
       " 164340,\n",
       " 102382,\n",
       " 467438,\n",
       " 734446,\n",
       " 46285,\n",
       " 912563,\n",
       " 701484,\n",
       " 450459,\n",
       " 555407]"
      ]
     },
     "execution_count": 30,
     "metadata": {},
     "output_type": "execute_result"
    }
   ],
   "source": [
    "f.coeffs()"
   ]
  },
  {
   "cell_type": "code",
   "execution_count": 31,
   "metadata": {},
   "outputs": [
    {
     "data": {
      "text/plain": [
       "555407*x^10 + 450459*x^9 + 701484*x^8 + 912563*x^7 + 46285*x^6 + 734446*x^5 + 467438*x^4 + 102382*x^3 + 164340*x^2 + 116767*x + 3052"
      ]
     },
     "execution_count": 31,
     "metadata": {},
     "output_type": "execute_result"
    }
   ],
   "source": [
    "f"
   ]
  },
  {
   "cell_type": "code",
   "execution_count": 32,
   "metadata": {},
   "outputs": [
    {
     "data": {
      "text/plain": [
       "[3052,\n",
       " 116767,\n",
       " 164340,\n",
       " 102382,\n",
       " 467438,\n",
       " 734446,\n",
       " 46285,\n",
       " 912563,\n",
       " 701484,\n",
       " 450459,\n",
       " 555407]"
      ]
     },
     "execution_count": 32,
     "metadata": {},
     "output_type": "execute_result"
    }
   ],
   "source": [
    "f.coefficients()"
   ]
  },
  {
   "cell_type": "code",
   "execution_count": 33,
   "metadata": {},
   "outputs": [],
   "source": [
    "a = f.coefficients()"
   ]
  },
  {
   "cell_type": "code",
   "execution_count": 34,
   "metadata": {},
   "outputs": [
    {
     "data": {
      "text/plain": [
       "<type 'list'>"
      ]
     },
     "execution_count": 34,
     "metadata": {},
     "output_type": "execute_result"
    }
   ],
   "source": [
    "type(a)"
   ]
  },
  {
   "cell_type": "code",
   "execution_count": 35,
   "metadata": {},
   "outputs": [
    {
     "data": {
      "text/plain": [
       "[3052,\n",
       " 116767,\n",
       " 164340,\n",
       " 102382,\n",
       " 467438,\n",
       " 734446,\n",
       " 46285,\n",
       " 912563,\n",
       " 701484,\n",
       " 450459,\n",
       " 555407]"
      ]
     },
     "execution_count": 35,
     "metadata": {},
     "output_type": "execute_result"
    }
   ],
   "source": [
    "a"
   ]
  },
  {
   "cell_type": "code",
   "execution_count": 36,
   "metadata": {},
   "outputs": [],
   "source": [
    "b = g.coefficients()"
   ]
  },
  {
   "cell_type": "code",
   "execution_count": 37,
   "metadata": {},
   "outputs": [
    {
     "data": {
      "text/plain": [
       "[373091,\n",
       " 414761,\n",
       " 52847,\n",
       " 805045,\n",
       " 358162,\n",
       " 242297,\n",
       " 673154,\n",
       " 953233,\n",
       " 772471,\n",
       " 669781,\n",
       " 421019]"
      ]
     },
     "execution_count": 37,
     "metadata": {},
     "output_type": "execute_result"
    }
   ],
   "source": [
    "b"
   ]
  },
  {
   "cell_type": "code",
   "execution_count": 55,
   "metadata": {},
   "outputs": [
    {
     "name": "stdout",
     "output_type": "stream",
     "text": [
      "11\n",
      "True\n"
     ]
    }
   ],
   "source": [
    "def multiplication_f_g(a, b):\n",
    "    n = len(a)\n",
    "    print n\n",
    "    c = [0] * (2*(n-1) + 1)\n",
    "    for i in range(0, n):\n",
    "        # print a[i] * g\n",
    "        for j in range(0, n):\n",
    "            c[i+j] = c[i+j] + a[i] * b[j]\n",
    "    \n",
    "    return c\n",
    "      \n",
    "h_own = multiplication_f_g(a, b)\n",
    "h = f * g\n",
    "print  h.coefficients() == h_own\n"
   ]
  },
  {
   "cell_type": "code",
   "execution_count": null,
   "metadata": {},
   "outputs": [],
   "source": []
  }
 ],
 "metadata": {
  "kernelspec": {
   "display_name": "SageMath 8.3",
   "language": "",
   "name": "sagemath"
  },
  "language_info": {
   "codemirror_mode": {
    "name": "ipython",
    "version": 2
   },
   "file_extension": ".py",
   "mimetype": "text/x-python",
   "name": "python",
   "nbconvert_exporter": "python",
   "pygments_lexer": "ipython2",
   "version": "2.7.15"
  }
 },
 "nbformat": 4,
 "nbformat_minor": 2
}
